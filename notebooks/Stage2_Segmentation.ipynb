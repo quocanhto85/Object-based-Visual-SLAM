{
 "cells": [
  {
   "cell_type": "code",
   "execution_count": null,
   "id": "b5e3b97e",
   "metadata": {},
   "outputs": [],
   "source": [
    "from ultralytics import YOLO\n",
    "import json"
   ]
  },
  {
   "cell_type": "code",
   "execution_count": null,
   "id": "f9a439a5",
   "metadata": {},
   "outputs": [],
   "source": [
    "seg_model = YOLO('yolov8x-seg.yaml').load('/content/drive/MyDrive/yolov8x_output/exp2_kitti_100_epochs/weights/best.pt')"
   ]
  }
 ],
 "metadata": {
  "language_info": {
   "name": "python"
  }
 },
 "nbformat": 4,
 "nbformat_minor": 5
}
